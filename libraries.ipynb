{
 "cells": [
  {
   "cell_type": "markdown",
   "metadata": {},
   "source": [
    "Libraries are like functions written by programmers to reuse by other other programmer by integrating it.\n",
    "1. Pandas-> Data handling e.g Excel.\n",
    "2. Numpy-> Dimensionalarray Data\n",
    "3. Matplotlib -> Plotting, Graphs\n",
    "4. Scikit-learn -> Machine Learning pridictions\n",
    "5. Seaborn -> like matplotlib\n",
    "6. Plotly(Master for plots) -> interactive plots\n",
    "8. Streamlit -> For dashboards stocks\n",
    "9. Scipy -> Stats\n",
    "10. Keras"
   ]
  },
  {
   "cell_type": "code",
   "execution_count": 3,
   "metadata": {},
   "outputs": [],
   "source": [
    "import pandas as pd\n",
    "import numpy as np\n",
    "import matplotlib.pylab as plt\n",
    "import plotly as px\n",
    "import seaborn as sns\n"
   ]
  }
 ],
 "metadata": {
  "kernelspec": {
   "display_name": "Python 3",
   "language": "python",
   "name": "python3"
  },
  "language_info": {
   "codemirror_mode": {
    "name": "ipython",
    "version": 3
   },
   "file_extension": ".py",
   "mimetype": "text/x-python",
   "name": "python",
   "nbconvert_exporter": "python",
   "pygments_lexer": "ipython3",
   "version": "3.11.3"
  }
 },
 "nbformat": 4,
 "nbformat_minor": 2
}
